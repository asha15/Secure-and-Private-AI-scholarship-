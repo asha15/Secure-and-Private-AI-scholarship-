{
  "nbformat": 4,
  "nbformat_minor": 0,
  "metadata": {
    "colab": {
      "name": "lesson11.ipynb",
      "version": "0.3.2",
      "provenance": [],
      "include_colab_link": true
    },
    "kernelspec": {
      "name": "python3",
      "display_name": "Python 3"
    }
  },
  "cells": [
    {
      "cell_type": "markdown",
      "metadata": {
        "id": "view-in-github",
        "colab_type": "text"
      },
      "source": [
        "<a href=\"https://colab.research.google.com/github/asha15/Secure-and-Private-AI-scholarship-/blob/master/intro-to-pytorch/lesson11.ipynb\" target=\"_parent\"><img src=\"https://colab.research.google.com/assets/colab-badge.svg\" alt=\"Open In Colab\"/></a>"
      ]
    },
    {
      "cell_type": "code",
      "metadata": {
        "id": "IZRNQc_b9nGD",
        "colab_type": "code",
        "colab": {}
      },
      "source": [
        "import torch\n",
        "from torch import nn\n",
        "\n",
        "class Network(nn.Module):#importing the neural network modeule \n",
        "  def init_(self):\n",
        "    super().init_() # running the init method in nn.module\n",
        "    \n",
        "    # creating hidden layers by defining the numer of inuts and output\n",
        "    self.hidden = nn.Linear(784, 256) \n",
        "    \n",
        "    self.output = nn.Linear(256, 10)\n",
        "    \n",
        "    self.sigmoid = nn.sigmoid()\n",
        "    self.softmax = nn.softmax(dim=1)\n",
        "    \n",
        "  def forward(self, x):\n",
        "    \n",
        "    x = self.hidden(x)\n",
        "    x = self.sigmoid(x)\n",
        "    x = self.output(x)\n",
        "    x = self.softmax(x)\n",
        "   \n",
        "    return x\n",
        "    \n",
        "    \n"
      ],
      "execution_count": 0,
      "outputs": []
    },
    {
      "cell_type": "code",
      "metadata": {
        "id": "CCs9uo2uBlvW",
        "colab_type": "code",
        "colab": {}
      },
      "source": [
        "import torch.nn.functional as F\n",
        "\n",
        "class Network(nn.Module):\n",
        "  def _init_(self):\n",
        "    super()._init_()\n",
        "    \n",
        "    self.hidden = nn.Linear(784, 256)\n",
        "    self.output = nn.Linear(256, 10)\n",
        "    \n",
        "    \n",
        "  def forward(self, x):\n",
        "    x = F.sigmoid(self.hidden(x))\n",
        "    x = F.softmax(self.output(x), dim=1)\n",
        "    \n",
        "    return 1\n",
        "    "
      ],
      "execution_count": 0,
      "outputs": []
    }
  ]
}