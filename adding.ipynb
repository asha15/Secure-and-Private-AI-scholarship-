{
  "nbformat": 4,
  "nbformat_minor": 0,
  "metadata": {
    "colab": {
      "name": "Untitled1.ipynb",
      "version": "0.3.2",
      "provenance": [],
      "include_colab_link": true
    },
    "kernelspec": {
      "name": "python3",
      "display_name": "Python 3"
    }
  },
  "cells": [
    {
      "cell_type": "markdown",
      "metadata": {
        "id": "view-in-github",
        "colab_type": "text"
      },
      "source": [
        "<a href=\"https://colab.research.google.com/github/asha15/Secure-and-Private-AI-scholarship-/blob/master/adding.ipynb\" target=\"_parent\"><img src=\"https://colab.research.google.com/assets/colab-badge.svg\" alt=\"Open In Colab\"/></a>"
      ]
    },
    {
      "cell_type": "code",
      "metadata": {
        "id": "HwJXzUtjlzty",
        "colab_type": "code",
        "colab": {
          "base_uri": "https://localhost:8080/",
          "height": 357
        },
        "outputId": "3aa118db-03e3-486f-f86b-4d4ef7ff249c"
      },
      "source": [
        "import torch\n",
        "\n",
        "x = torch.rand(5, 3)\n",
        "y = torch.rand(5, 3)\n",
        "print(x)\n",
        "print(y)\n",
        "print(x + y)\n",
        "\n",
        "print(torch.add(x, y))"
      ],
      "execution_count": 12,
      "outputs": [
        {
          "output_type": "stream",
          "text": [
            "tensor([[0.3092, 0.4725, 0.1297],\n",
            "        [0.7157, 0.4803, 0.7635],\n",
            "        [0.1363, 0.9681, 0.5190],\n",
            "        [0.5289, 0.4403, 0.9330],\n",
            "        [0.3080, 0.4826, 0.7979]])\n",
            "tensor([[0.5489, 0.4808, 0.4101],\n",
            "        [0.8511, 0.9570, 0.1685],\n",
            "        [0.5120, 0.0894, 0.0143],\n",
            "        [0.8327, 0.9845, 0.1411],\n",
            "        [0.5212, 0.5620, 0.9247]])\n",
            "tensor([[0.8581, 0.9533, 0.5398],\n",
            "        [1.5668, 1.4373, 0.9320],\n",
            "        [0.6482, 1.0574, 0.5333],\n",
            "        [1.3616, 1.4248, 1.0741],\n",
            "        [0.8291, 1.0446, 1.7227]])\n",
            "tensor([[0.8581, 0.9533, 0.5398],\n",
            "        [1.5668, 1.4373, 0.9320],\n",
            "        [0.6482, 1.0574, 0.5333],\n",
            "        [1.3616, 1.4248, 1.0741],\n",
            "        [0.8291, 1.0446, 1.7227]])\n"
          ],
          "name": "stdout"
        }
      ]
    },
    {
      "cell_type": "code",
      "metadata": {
        "id": "xUgdKJ1spssA",
        "colab_type": "code",
        "colab": {}
      },
      "source": [
        ""
      ],
      "execution_count": 0,
      "outputs": []
    }
  ]
}